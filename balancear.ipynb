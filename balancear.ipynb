{
 "cells": [
  {
   "cell_type": "code",
   "execution_count": null,
   "metadata": {},
   "outputs": [],
   "source": [
    "import pandas as pd\n",
    "from imblearn.over_sampling import SMOTE\n",
    "from sklearn.model_selection import train_test_split\n",
    "from imblearn.under_sampling import RandomUnderSampler\n",
    "from sklearn.ensemble import RandomForestClassifier\n",
    "from sklearn.metrics import classification_report\n",
    "from sklearn.preprocessing import LabelEncoder\n",
    "from sklearn import preprocessing\n",
    "scale = preprocessing.MinMaxScaler()\n",
    "\n",
    "\n",
    "file='files/normalizado_refugiados.csv'\n",
    "df=pd.read_csv(file, sep=\",\")\n",
    "\n",
    "X = df.drop('Estatus Legal', axis=1)  \n",
    "\n",
    "y = df['Estatus Legal']  \n",
    "X_train, X_test, y_train, y_test = train_test_split(X, y, test_size=0.2, random_state=42)\n",
    "\n",
    "under_sampler = RandomUnderSampler(random_state=42)\n",
    "X_train_balanced, y_train_balanced = under_sampler.fit_resample(X_train, y_train)\n",
    "X_train_balanced_df = pd.DataFrame(X_train_balanced, columns=df.drop('Estatus Legal', axis=1).columns)\n",
    "y_train_balanced_df = pd.DataFrame(y_train_balanced, columns=['Estatus Legal'])\n",
    "\n",
    "\n",
    "balanced_df = pd.concat([X_train_balanced_df, y_train_balanced_df], axis=1)\n",
    "\n",
    "\n",
    "output_file = 'files/balanced_dataset.csv'\n",
    "balanced_df.to_csv(output_file, index=False)\n"
   ]
  }
 ],
 "metadata": {
  "language_info": {
   "name": "python"
  }
 },
 "nbformat": 4,
 "nbformat_minor": 2
}
